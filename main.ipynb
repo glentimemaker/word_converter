{
 "cells": [
  {
   "cell_type": "code",
   "execution_count": 3,
   "metadata": {},
   "outputs": [],
   "source": [
    "from PIL import Image, ImageDraw, ImageFont\n",
    "import matplotlib.pyplot as plt\n",
    "import os\n",
    "import math"
   ]
  },
  {
   "cell_type": "code",
   "execution_count": 4,
   "metadata": {},
   "outputs": [],
   "source": [
    "from random import randint\n",
    "ran_list = [0, 90, 180, 270]\n",
    "\n",
    "def create_img(word):\n",
    "    img = Image.new('RGB', (30, 30), color = (255,255,255))\n",
    "    ## Use simsum.ttc to write Chinese.\n",
    "    fontpath = \"./simsun.ttc\" \n",
    "    font = ImageFont.truetype(fontpath, 20)\n",
    "    draw = ImageDraw.Draw(img)\n",
    "    draw.text((5, 5),  word, font = font, fill=(0,0,0))\n",
    "    if word > u'\\u4e00' and word < u'\\u9fff':\n",
    "        ran = randint(0, 3)\n",
    "        img = img.rotate(ran_list[ran])\n",
    "    return img"
   ]
  },
  {
   "cell_type": "code",
   "execution_count": 5,
   "metadata": {},
   "outputs": [],
   "source": [
    "with open('test.txt', encoding=\"utf8\") as f:\n",
    "    inp = f.readlines()"
   ]
  },
  {
   "cell_type": "code",
   "execution_count": 10,
   "metadata": {
    "scrolled": true
   },
   "outputs": [],
   "source": [
    "if not os.path.exists('paper/'):\n",
    "    os.mkdir('paper')\n",
    "\n",
    "word_size = 30\n",
    "width = 900\n",
    "height = 1500\n",
    "background = Image.new('RGB', (width, height), color = (255,255,255))\n",
    "width_num = width/word_size\n",
    "height_num = height/word_size\n",
    "return_flag = False\n",
    "one_line_count = 0\n",
    "line_idx = 0\n",
    "page_idx = 0\n",
    "images = []\n",
    "\n",
    "for para in inp:\n",
    "    if len(para) > 1:\n",
    "        folder = r'paper/{}'.format(count)\n",
    "        if not os.path.exists(folder):\n",
    "            os.mkdir(folder)\n",
    "        for i in range(len(para)):\n",
    "            if line_idx > height_num-1:\n",
    "                background.save('paper/{}.jpg'.format(page_idx))\n",
    "                images.append(background)\n",
    "                background = Image.new('RGB', (width, height), color = (255,255,255))\n",
    "                page_idx += 1\n",
    "                line_idx = 0\n",
    "                one_line_count = 0\n",
    "                img = create_img(para[i-1])\n",
    "                x = one_line_count*word_size\n",
    "                y = line_idx*word_size\n",
    "                background.paste(img, (x,y))\n",
    "                one_line_count += 1\n",
    "            \n",
    "            if one_line_count > width_num-1:\n",
    "                one_line_count = 0\n",
    "                line_idx += 1\n",
    "            img = create_img(para[i])\n",
    "            x = one_line_count*word_size\n",
    "            y = line_idx*word_size\n",
    "            background.paste(img, (x,y))\n",
    "            one_line_count += 1\n",
    "            if i == len(para)-1:\n",
    "                one_line_count = 0\n",
    "                line_idx += 1\n",
    "\n",
    "#                 background.show()\n",
    "background.save('paper/{}.jpg'.format(page_idx))\n",
    "images.append(background)"
   ]
  },
  {
   "cell_type": "code",
   "execution_count": 11,
   "metadata": {},
   "outputs": [],
   "source": [
    "max_height = (page_idx+1) * height\n",
    "new_im = Image.new('RGB', (width, max_height))\n",
    "y = 0\n",
    "for im in images:\n",
    "    new_im.paste(im, (0,y))\n",
    "    y += height"
   ]
  },
  {
   "cell_type": "code",
   "execution_count": 12,
   "metadata": {},
   "outputs": [],
   "source": [
    "new_im.save('paper/merged.jpg')"
   ]
  },
  {
   "cell_type": "code",
   "execution_count": null,
   "metadata": {},
   "outputs": [],
   "source": []
  }
 ],
 "metadata": {
  "kernelspec": {
   "display_name": "Python 3",
   "language": "python",
   "name": "python3"
  },
  "language_info": {
   "codemirror_mode": {
    "name": "ipython",
    "version": 3
   },
   "file_extension": ".py",
   "mimetype": "text/x-python",
   "name": "python",
   "nbconvert_exporter": "python",
   "pygments_lexer": "ipython3",
   "version": "3.6.5"
  }
 },
 "nbformat": 4,
 "nbformat_minor": 2
}
